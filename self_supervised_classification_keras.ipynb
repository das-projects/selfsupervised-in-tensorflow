{
 "cells": [
  {
   "cell_type": "markdown",
   "metadata": {
    "id": "gSRJBo9-lwOX"
   },
   "source": [
    "# Self-supervised Learning for Classification\n"
   ]
  },
  {
   "cell_type": "code",
   "execution_count": 1,
   "metadata": {
    "id": "mKsXIajqePwJ"
   },
   "outputs": [],
   "source": [
    "import sys\n",
    "import pickle\n",
    "\n",
    "from tensorflow import keras\n",
    "from tensorflow.keras import layers\n",
    "from tensorflow.keras.layers.experimental import preprocessing\n",
    "\n",
    "sys.path.insert(0,'/content/contrastive-classification-keras')\n",
    "from dataset import prepare_dataset\n",
    "from augmentations import RandomResizedCrop, RandomColorJitter\n",
    "from algorithms import SimCLR, NNCLR, DCCLR, BarlowTwins, HSICTwins, TWIST, MoCo, DINO"
   ]
  },
  {
   "cell_type": "code",
   "execution_count": 2,
   "metadata": {
    "id": "rAXcug3LeU4P"
   },
   "outputs": [],
   "source": [
    "# hyperparameters\n",
    "num_epochs = 30\n",
    "steps_per_epoch = 200\n",
    "width = 128\n",
    "\n",
    "# hyperparameters corresponding to each algorithm\n",
    "hyperparams = {\n",
    "    SimCLR: {\"temperature\": 0.1},\n",
    "    NNCLR: {\"temperature\": 0.1, \"queue_size\": 10000},\n",
    "    DCCLR: {\"temperature\": 0.1},\n",
    "    BarlowTwins: {\"redundancy_reduction_weight\": 10.0},\n",
    "    HSICTwins: {\"redundancy_reduction_weight\": 3.0},\n",
    "    TWIST: {},\n",
    "    MoCo: {\"momentum_coeff\": 0.99, \"temperature\": 0.1, \"queue_size\": 10000},\n",
    "    DINO: {\"momentum_coeff\": 0.9, \"temperature\": 0.1, \"sharpening\": 0.5},\n",
    "}"
   ]
  },
  {
   "cell_type": "code",
   "execution_count": 3,
   "metadata": {
    "id": "xKX-vD2jeVLe"
   },
   "outputs": [
    {
     "name": "stdout",
     "output_type": "stream",
     "text": [
      "batch size is 500 (unlabeled) + 25 (labeled)\n"
     ]
    }
   ],
   "source": [
    "# load STL10 dataset\n",
    "batch_size, train_dataset, labeled_train_dataset, test_dataset = prepare_dataset(\n",
    "    steps_per_epoch\n",
    ")"
   ]
  },
  {
   "cell_type": "code",
   "execution_count": 5,
   "metadata": {
    "id": "g3NnbOlWeVXN"
   },
   "outputs": [
    {
     "ename": "AttributeError",
     "evalue": "module 'tensorflow.keras.layers.experimental.preprocessing' has no attribute 'image'",
     "output_type": "error",
     "traceback": [
      "\u001B[0;31m---------------------------------------------------------------------------\u001B[0m",
      "\u001B[0;31mAttributeError\u001B[0m                            Traceback (most recent call last)",
      "\u001B[0;32m<ipython-input-5-fa3833be464f>\u001B[0m in \u001B[0;36m<module>\u001B[0;34m\u001B[0m\n\u001B[1;32m      7\u001B[0m         [\n\u001B[1;32m      8\u001B[0m             \u001B[0mlayers\u001B[0m\u001B[0;34m.\u001B[0m\u001B[0mInput\u001B[0m\u001B[0;34m(\u001B[0m\u001B[0mshape\u001B[0m\u001B[0;34m=\u001B[0m\u001B[0;34m(\u001B[0m\u001B[0;36m96\u001B[0m\u001B[0;34m,\u001B[0m \u001B[0;36m96\u001B[0m\u001B[0;34m,\u001B[0m \u001B[0;36m3\u001B[0m\u001B[0;34m)\u001B[0m\u001B[0;34m)\u001B[0m\u001B[0;34m,\u001B[0m\u001B[0;34m\u001B[0m\u001B[0;34m\u001B[0m\u001B[0m\n\u001B[0;32m----> 9\u001B[0;31m             \u001B[0mpreprocessing\u001B[0m\u001B[0;34m.\u001B[0m\u001B[0mimage\u001B[0m\u001B[0;34m.\u001B[0m\u001B[0mImageDataGenerator\u001B[0m\u001B[0;34m(\u001B[0m\u001B[0mrescale\u001B[0m\u001B[0;34m=\u001B[0m\u001B[0;36m1.\u001B[0m\u001B[0;34m/\u001B[0m\u001B[0;36m255\u001B[0m\u001B[0;34m)\u001B[0m\u001B[0;34m,\u001B[0m\u001B[0;34m\u001B[0m\u001B[0;34m\u001B[0m\u001B[0m\n\u001B[0m\u001B[1;32m     10\u001B[0m             \u001B[0mpreprocessing\u001B[0m\u001B[0;34m.\u001B[0m\u001B[0mimage\u001B[0m\u001B[0;34m.\u001B[0m\u001B[0mImageDataGenerator\u001B[0m\u001B[0;34m(\u001B[0m\u001B[0mrotation_range\u001B[0m\u001B[0;34m=\u001B[0m\u001B[0;36m30\u001B[0m\u001B[0;34m,\u001B[0m \u001B[0mhorizontal_flip\u001B[0m\u001B[0;34m=\u001B[0m\u001B[0;32mTrue\u001B[0m\u001B[0;34m)\u001B[0m\u001B[0;34m,\u001B[0m\u001B[0;34m\u001B[0m\u001B[0;34m\u001B[0m\u001B[0m\n\u001B[1;32m     11\u001B[0m             \u001B[0mRandomResizedCrop\u001B[0m\u001B[0;34m(\u001B[0m\u001B[0mscale\u001B[0m\u001B[0;34m=\u001B[0m\u001B[0;34m(\u001B[0m\u001B[0;36m0.2\u001B[0m\u001B[0;34m,\u001B[0m \u001B[0;36m1.0\u001B[0m\u001B[0;34m)\u001B[0m\u001B[0;34m,\u001B[0m \u001B[0mratio\u001B[0m\u001B[0;34m=\u001B[0m\u001B[0;34m(\u001B[0m\u001B[0;36m3\u001B[0m \u001B[0;34m/\u001B[0m \u001B[0;36m4\u001B[0m\u001B[0;34m,\u001B[0m \u001B[0;36m4\u001B[0m \u001B[0;34m/\u001B[0m \u001B[0;36m3\u001B[0m\u001B[0;34m)\u001B[0m\u001B[0;34m)\u001B[0m\u001B[0;34m,\u001B[0m\u001B[0;34m\u001B[0m\u001B[0;34m\u001B[0m\u001B[0m\n",
      "\u001B[0;31mAttributeError\u001B[0m: module 'tensorflow.keras.layers.experimental.preprocessing' has no attribute 'image'"
     ]
    }
   ],
   "source": [
    "# select an algorithm\n",
    "Algorithm = MoCo\n",
    "\n",
    "# architecture\n",
    "model = Algorithm(\n",
    "    contrastive_augmenter=keras.Sequential(\n",
    "        [\n",
    "            layers.Input(shape=(96, 96, 3)),\n",
    "            preprocessing.Rescaling(1 / 255),\n",
    "            preprocessing.RandomFlip(\"horizontal\"),\n",
    "            RandomResizedCrop(scale=(0.2, 1.0), ratio=(3 / 4, 4 / 3)),\n",
    "            RandomColorJitter(brightness=0.5, contrast=0.5, saturation=0.5, hue=0.2),\n",
    "        ],\n",
    "        name=\"contrastive_augmenter\",\n",
    "    ),\n",
    "    classification_augmenter=keras.Sequential(\n",
    "        [\n",
    "            layers.Input(shape=(96, 96, 3)),\n",
    "            preprocessing.Rescaling(1 / 255),\n",
    "            preprocessing.RandomFlip(\"horizontal\"),\n",
    "            RandomResizedCrop(scale=(0.5, 1.0), ratio=(3 / 4, 4 / 3)),\n",
    "            RandomColorJitter(brightness=0.2, contrast=0.2, saturation=0.2, hue=0.1),\n",
    "        ],\n",
    "        name=\"classification_augmenter\",\n",
    "    ),\n",
    "    encoder=keras.Sequential(\n",
    "        [\n",
    "            layers.Input(shape=(96, 96, 3)),\n",
    "            layers.Conv2D(width, kernel_size=3, strides=2, activation=\"relu\"),\n",
    "            layers.Conv2D(width, kernel_size=3, strides=2, activation=\"relu\"),\n",
    "            layers.Conv2D(width, kernel_size=3, strides=2, activation=\"relu\"),\n",
    "            layers.Conv2D(width, kernel_size=3, strides=2, activation=\"relu\"),\n",
    "            layers.Flatten(),\n",
    "            layers.Dense(width, activation=\"relu\"),\n",
    "        ],\n",
    "        name=\"encoder\",\n",
    "    ),\n",
    "    projection_head=keras.Sequential(\n",
    "        [\n",
    "            layers.Input(shape=(width,)),\n",
    "            layers.Dense(width, activation=\"relu\"),\n",
    "            layers.Dense(width),\n",
    "        ],\n",
    "        name=\"projection_head\",\n",
    "    ),\n",
    "    linear_probe=keras.Sequential(\n",
    "        [\n",
    "            layers.Input(shape=(width,)),\n",
    "            layers.Dense(10),\n",
    "        ],\n",
    "        name=\"linear_probe\",\n",
    "    ),\n",
    "    **hyperparams[Algorithm],\n",
    ")"
   ]
  },
  {
   "cell_type": "code",
   "execution_count": null,
   "metadata": {
    "id": "kCBVd6DBeViQ"
   },
   "outputs": [],
   "source": [
    "# optimizers\n",
    "model.compile(\n",
    "    contrastive_optimizer=keras.optimizers.Adam(),\n",
    "    probe_optimizer=keras.optimizers.Adam(),\n",
    ")\n",
    "\n",
    "# run training\n",
    "history = model.fit(train_dataset, epochs=num_epochs, validation_data=test_dataset)\n",
    "\n",
    "# save history\n",
    "with open(\"{}.pkl\".format(Algorithm.__name__), \"wb\") as write_file:\n",
    "    pickle.dump(history.history, write_file)"
   ]
  },
  {
   "cell_type": "code",
   "execution_count": null,
   "outputs": [],
   "source": [],
   "metadata": {
    "collapsed": false,
    "pycharm": {
     "name": "#%%\n"
    }
   }
  }
 ],
 "metadata": {
  "colab": {
   "collapsed_sections": [],
   "name": "contrastive-classification-keras.ipynb",
   "provenance": []
  },
  "kernelspec": {
   "display_name": "Python 3",
   "name": "python3"
  },
  "language_info": {
   "name": "python"
  }
 },
 "nbformat": 4,
 "nbformat_minor": 2
}