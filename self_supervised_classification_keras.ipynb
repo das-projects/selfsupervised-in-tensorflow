{
 "cells": [
  {
   "cell_type": "markdown",
   "metadata": {
    "id": "gSRJBo9-lwOX"
   },
   "source": [
    "# Self-supervised Learning for Classification\n"
   ]
  },
  {
   "cell_type": "code",
   "execution_count": 1,
   "metadata": {
    "id": "mKsXIajqePwJ"
   },
   "outputs": [],
   "source": [
    "import sys\n",
    "import pickle\n",
    "\n",
    "from tensorflow import keras\n",
    "from tensorflow.keras import layers\n",
    "from tensorflow.keras.layers.experimental import preprocessing\n",
    "\n",
    "sys.path.insert(0,'/content/contrastive-classification-keras')\n",
    "from dataset import prepare_dataset\n",
    "from augmentations import RandomResizedCrop, RandomColorJitter\n",
    "from algorithms import SimCLR, NNCLR, DCCLR, BarlowTwins, HSICTwins, TWIST, MoCo, DINO"
   ]
  },
  {
   "cell_type": "code",
   "execution_count": 2,
   "metadata": {
    "id": "rAXcug3LeU4P"
   },
   "outputs": [],
   "source": [
    "# hyperparameters\n",
    "num_epochs = 30\n",
    "steps_per_epoch = 200\n",
    "width = 128\n",
    "\n",
    "# hyperparameters corresponding to each algorithm\n",
    "hyperparams = {\n",
    "    SimCLR: {\"temperature\": 0.1},\n",
    "    NNCLR: {\"temperature\": 0.1, \"queue_size\": 10000},\n",
    "    DCCLR: {\"temperature\": 0.1},\n",
    "    BarlowTwins: {\"redundancy_reduction_weight\": 10.0},\n",
    "    HSICTwins: {\"redundancy_reduction_weight\": 3.0},\n",
    "    TWIST: {},\n",
    "    MoCo: {\"momentum_coeff\": 0.99, \"temperature\": 0.1, \"queue_size\": 10000},\n",
    "    DINO: {\"momentum_coeff\": 0.9, \"temperature\": 0.1, \"sharpening\": 0.5},\n",
    "}"
   ]
  },
  {
   "cell_type": "code",
   "execution_count": null,
   "metadata": {
    "id": "xKX-vD2jeVLe",
    "pycharm": {
     "is_executing": true
    }
   },
   "outputs": [
    {
     "name": "stdout",
     "output_type": "stream",
     "text": [
      "batch size is 500 (unlabeled) + 25 (labeled)\n",
      "\u001B[1mDownloading and preparing dataset 2.46 GiB (download: 2.46 GiB, generated: 1.86 GiB, total: 4.32 GiB) to /home/arijit/tensorflow_datasets/stl10/1.0.0...\u001B[0m\n"
     ]
    },
    {
     "data": {
      "text/plain": "Dl Completed...: 0 url [00:00, ? url/s]",
      "application/vnd.jupyter.widget-view+json": {
       "version_major": 2,
       "version_minor": 0,
       "model_id": "f4e4b959aff04ca381796d6fa2c061bc"
      }
     },
     "metadata": {},
     "output_type": "display_data"
    },
    {
     "data": {
      "text/plain": "Dl Size...: 0 MiB [00:00, ? MiB/s]",
      "application/vnd.jupyter.widget-view+json": {
       "version_major": 2,
       "version_minor": 0,
       "model_id": "bf3bf7bdbc5b4f38836f8640dc2c5747"
      }
     },
     "metadata": {},
     "output_type": "display_data"
    },
    {
     "data": {
      "text/plain": "Extraction completed...: 0 file [00:00, ? file/s]",
      "application/vnd.jupyter.widget-view+json": {
       "version_major": 2,
       "version_minor": 0,
       "model_id": "da69f0e2f615454ca90dae26a2e01c3c"
      }
     },
     "metadata": {},
     "output_type": "display_data"
    }
   ],
   "source": [
    "# load STL10 dataset\n",
    "batch_size, train_dataset, labeled_train_dataset, test_dataset = prepare_dataset(\n",
    "    steps_per_epoch\n",
    ")"
   ]
  },
  {
   "cell_type": "code",
   "execution_count": null,
   "metadata": {
    "id": "g3NnbOlWeVXN"
   },
   "outputs": [],
   "source": [
    "# select an algorithm\n",
    "Algorithm = MoCo\n",
    "\n",
    "# architecture\n",
    "model = Algorithm(\n",
    "    contrastive_augmenter=keras.Sequential(\n",
    "        [\n",
    "            layers.Input(shape=(96, 96, 3)),\n",
    "            keras.preprocessing.image.ImageDataGenerator(rescale=1./255),\n",
    "            keras.preprocessing.image.ImageDataGenerator(rotation_range=30, horizontal_flip=True),\n",
    "            RandomResizedCrop(scale=(0.2, 1.0), ratio=(3 / 4, 4 / 3)),\n",
    "            RandomColorJitter(brightness=0.5, contrast=0.5, saturation=0.5, hue=0.2),\n",
    "        ],\n",
    "        name=\"contrastive_augmenter\",\n",
    "    ),\n",
    "    classification_augmenter=keras.Sequential(\n",
    "        [\n",
    "            layers.Input(shape=(96, 96, 3)),\n",
    "            keras.preprocessing.image.ImageDataGenerator(rescale=1./255),\n",
    "            keras.preprocessing.image.ImageDataGenerator(rotation_range=30, horizontal_flip=True),\n",
    "            RandomResizedCrop(scale=(0.5, 1.0), ratio=(3 / 4, 4 / 3)),\n",
    "            RandomColorJitter(brightness=0.2, contrast=0.2, saturation=0.2, hue=0.1),\n",
    "        ],\n",
    "        name=\"classification_augmenter\",\n",
    "    ),\n",
    "    encoder=keras.Sequential(\n",
    "        [\n",
    "            layers.Input(shape=(96, 96, 3)),\n",
    "            layers.Conv2D(width, kernel_size=3, strides=2, activation=\"relu\"),\n",
    "            layers.Conv2D(width, kernel_size=3, strides=2, activation=\"relu\"),\n",
    "            layers.Conv2D(width, kernel_size=3, strides=2, activation=\"relu\"),\n",
    "            layers.Conv2D(width, kernel_size=3, strides=2, activation=\"relu\"),\n",
    "            layers.Flatten(),\n",
    "            layers.Dense(width, activation=\"relu\"),\n",
    "        ],\n",
    "        name=\"encoder\",\n",
    "    ),\n",
    "    projection_head=keras.Sequential(\n",
    "        [\n",
    "            layers.Input(shape=(width,)),\n",
    "            layers.Dense(width, activation=\"relu\"),\n",
    "            layers.Dense(width),\n",
    "        ],\n",
    "        name=\"projection_head\",\n",
    "    ),\n",
    "    linear_probe=keras.Sequential(\n",
    "        [\n",
    "            layers.Input(shape=(width,)),\n",
    "            layers.Dense(10),\n",
    "        ],\n",
    "        name=\"linear_probe\",\n",
    "    ),\n",
    "    **hyperparams[Algorithm],\n",
    ")"
   ]
  },
  {
   "cell_type": "code",
   "execution_count": null,
   "metadata": {
    "id": "kCBVd6DBeViQ"
   },
   "outputs": [],
   "source": [
    "# optimizers\n",
    "model.compile(\n",
    "    contrastive_optimizer=keras.optimizers.Adam(),\n",
    "    probe_optimizer=keras.optimizers.Adam(),\n",
    ")\n",
    "\n",
    "# run training\n",
    "history = model.fit(train_dataset, epochs=num_epochs, validation_data=test_dataset)\n",
    "\n",
    "# save history\n",
    "with open(\"{}.pkl\".format(Algorithm.__name__), \"wb\") as write_file:\n",
    "    pickle.dump(history.history, write_file)"
   ]
  }
 ],
 "metadata": {
  "colab": {
   "collapsed_sections": [],
   "name": "contrastive-classification-keras.ipynb",
   "provenance": []
  },
  "kernelspec": {
   "display_name": "Python 3",
   "name": "python3"
  },
  "language_info": {
   "name": "python"
  }
 },
 "nbformat": 4,
 "nbformat_minor": 2
}